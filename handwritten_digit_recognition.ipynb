{
 "cells": [
  {
   "cell_type": "code",
   "execution_count": 2,
   "metadata": {
    "id": "PujkVF978-2T"
   },
   "outputs": [],
   "source": [
    "import numpy as np\n",
    "import tensorflow as tf\n",
    "from tensorflow import keras\n",
    "from keras.datasets import mnist\n",
    "import matplotlib.pyplot as plt\n",
    "from sklearn.metrics import confusion_matrix\n",
    "import seaborn as sn\n",
    "import pandas as pd\n",
    "import cv2\n"
   ]
  },
  {
   "cell_type": "markdown",
   "metadata": {
    "id": "wOmPKN3y27Ot"
   },
   "source": [
    "# Load MNSIT Data"
   ]
  },
  {
   "cell_type": "code",
   "execution_count": 3,
   "metadata": {
    "colab": {
     "base_uri": "https://localhost:8080/"
    },
    "id": "SfVwcFCE266X",
    "outputId": "1addba0e-0cea-4e89-ff9f-26af1a10cb0f"
   },
   "outputs": [
    {
     "name": "stdout",
     "output_type": "stream",
     "text": [
      "Downloading data from https://storage.googleapis.com/tensorflow/tf-keras-datasets/mnist.npz\n",
      "\u001b[1m11490434/11490434\u001b[0m \u001b[32m━━━━━━━━━━━━━━━━━━━━\u001b[0m\u001b[37m\u001b[0m \u001b[1m2s\u001b[0m 0us/step\n"
     ]
    }
   ],
   "source": [
    "(x_train, y_train), (x_test, y_test) = keras.datasets.mnist.load_data()"
   ]
  },
  {
   "cell_type": "markdown",
   "metadata": {
    "id": "2XFYsSdMAN9A"
   },
   "source": [
    "Shape of the numpy Arrays"
   ]
  },
  {
   "cell_type": "code",
   "execution_count": 4,
   "metadata": {
    "colab": {
     "base_uri": "https://localhost:8080/"
    },
    "id": "LnZV0vq0AQ_-",
    "outputId": "94a3aa8f-3d09-4b47-8de3-9ad4c07ef7e9"
   },
   "outputs": [
    {
     "name": "stdout",
     "output_type": "stream",
     "text": [
      "(60000, 28, 28)\n",
      "(10000, 28, 28)\n",
      "(60000,)\n",
      "(10000,)\n"
     ]
    }
   ],
   "source": [
    "# x_train has 60000 images of size 28x28\n",
    "# y_train has 60000 labels\n",
    "\n",
    "print(x_train.shape)\n",
    "print(x_test.shape)\n",
    "print(y_train.shape)\n",
    "print(y_test.shape)"
   ]
  },
  {
   "cell_type": "markdown",
   "metadata": {
    "id": "HH_VdyKsEX47"
   },
   "source": [
    "# Plotting to check the image"
   ]
  },
  {
   "cell_type": "code",
   "execution_count": 5,
   "metadata": {
    "colab": {
     "base_uri": "https://localhost:8080/",
     "height": 447
    },
    "id": "MUND8wjfEXUX",
    "outputId": "f0cf1ee3-3a48-4541-f1b8-7694c4d54ba5"
   },
   "outputs": [
    {
     "data": {
      "image/png": "[encoded data removed]",
      "text/plain": [
       "<Figure size 640x480 with 1 Axes>"
      ]
     },
     "metadata": {},
     "output_type": "display_data"
    },
    {
     "name": "stdout",
     "output_type": "stream",
     "text": [
      "5\n"
     ]
    }
   ],
   "source": [
    "plt.imshow(x_train[0])\n",
    "plt.show()\n",
    "print(y_train[0])\n"
   ]
  },
  {
   "cell_type": "code",
   "execution_count": 6,
   "metadata": {
    "colab": {
     "base_uri": "https://localhost:8080/"
    },
    "id": "6DzdVWtkjsMq",
    "outputId": "3350bf1d-685c-4df2-fe91-2239c8ac9003"
   },
   "outputs": [
    {
     "name": "stdout",
     "output_type": "stream",
     "text": [
      "[0 1 2 3 4 5 6 7 8 9]\n",
      "[0 1 2 3 4 5 6 7 8 9]\n"
     ]
    }
   ],
   "source": [
    "#checking how many classes are there\n",
    "print(np.unique(y_train))\n",
    "print(np.unique(y_test))"
   ]
  },
  {
   "cell_type": "markdown",
   "metadata": {
    "id": "hXmx9v6zkbb0"
   },
   "source": [
    "All the images are of same size. We need to resize the images if they are not of the same size"
   ]
  },
  {
   "cell_type": "code",
   "execution_count": 23,
   "metadata": {
    "colab": {
     "base_uri": "https://localhost:8080/"
    },
    "id": "hkdV6Vgmkkr3",
    "outputId": "acb091de-de7a-4b0e-b216-6723e3bc51de"
   },
   "outputs": [],
   "source": [
    "# The numbers in the numpy array created from the image range from 0 to 255.\n",
    "# 0 means lowest intensity. 255 means highest intensity\n",
    "# We want to standardize it to a number between 0-1 so that calculations become easier\n",
    "\n",
    "x_train = x_train/255\n",
    "x_test = x_test/255\n"
   ]
  },
  {
   "cell_type": "markdown",
   "metadata": {
    "id": "wR5LtoZOoiaN"
   },
   "source": [
    "# Building the neural network"
   ]
  },
  {
   "cell_type": "code",
   "execution_count": 8,
   "metadata": {
    "colab": {
     "base_uri": "https://localhost:8080/"
    },
    "id": "PW2Ct5CTogiw",
    "outputId": "b9ad2e72-a87c-4b91-984e-cc4d435776c9"
   },
   "outputs": [
    {
     "name": "stdout",
     "output_type": "stream",
     "text": [
      "Epoch 1/10\n"
     ]
    },
    {
     "name": "stderr",
     "output_type": "stream",
     "text": [
      "/Users/ansinha/Library/Python/3.9/lib/python/site-packages/keras/src/layers/reshaping/flatten.py:37: UserWarning: Do not pass an `input_shape`/`input_dim` argument to a layer. When using Sequential models, prefer using an `Input(shape)` object as the first layer in the model instead.\n",
      "  super().__init__(**kwargs)\n"
     ]
    },
    {
     "name": "stdout",
     "output_type": "stream",
     "text": [
      "\u001b[1m1875/1875\u001b[0m \u001b[32m━━━━━━━━━━━━━━━━━━━━\u001b[0m\u001b[37m\u001b[0m \u001b[1m1s\u001b[0m 420us/step - accuracy: 0.8540 - loss: 0.5099\n",
      "Epoch 2/10\n",
      "\u001b[1m1875/1875\u001b[0m \u001b[32m━━━━━━━━━━━━━━━━━━━━\u001b[0m\u001b[37m\u001b[0m \u001b[1m1s\u001b[0m 419us/step - accuracy: 0.9569 - loss: 0.1442\n",
      "Epoch 3/10\n",
      "\u001b[1m1875/1875\u001b[0m \u001b[32m━━━━━━━━━━━━━━━━━━━━\u001b[0m\u001b[37m\u001b[0m \u001b[1m1s\u001b[0m 431us/step - accuracy: 0.9688 - loss: 0.1015\n",
      "Epoch 4/10\n",
      "\u001b[1m1875/1875\u001b[0m \u001b[32m━━━━━━━━━━━━━━━━━━━━\u001b[0m\u001b[37m\u001b[0m \u001b[1m1s\u001b[0m 418us/step - accuracy: 0.9755 - loss: 0.0805\n",
      "Epoch 5/10\n",
      "\u001b[1m1875/1875\u001b[0m \u001b[32m━━━━━━━━━━━━━━━━━━━━\u001b[0m\u001b[37m\u001b[0m \u001b[1m1s\u001b[0m 407us/step - accuracy: 0.9793 - loss: 0.0653\n",
      "Epoch 6/10\n",
      "\u001b[1m1875/1875\u001b[0m \u001b[32m━━━━━━━━━━━━━━━━━━━━\u001b[0m\u001b[37m\u001b[0m \u001b[1m1s\u001b[0m 410us/step - accuracy: 0.9820 - loss: 0.0563\n",
      "Epoch 7/10\n",
      "\u001b[1m1875/1875\u001b[0m \u001b[32m━━━━━━━━━━━━━━━━━━━━\u001b[0m\u001b[37m\u001b[0m \u001b[1m1s\u001b[0m 442us/step - accuracy: 0.9848 - loss: 0.0476\n",
      "Epoch 8/10\n",
      "\u001b[1m1875/1875\u001b[0m \u001b[32m━━━━━━━━━━━━━━━━━━━━\u001b[0m\u001b[37m\u001b[0m \u001b[1m1s\u001b[0m 454us/step - accuracy: 0.9875 - loss: 0.0403\n",
      "Epoch 9/10\n",
      "\u001b[1m1875/1875\u001b[0m \u001b[32m━━━━━━━━━━━━━━━━━━━━\u001b[0m\u001b[37m\u001b[0m \u001b[1m1s\u001b[0m 446us/step - accuracy: 0.9882 - loss: 0.0362\n",
      "Epoch 10/10\n",
      "\u001b[1m1875/1875\u001b[0m \u001b[32m━━━━━━━━━━━━━━━━━━━━\u001b[0m\u001b[37m\u001b[0m \u001b[1m1s\u001b[0m 417us/step - accuracy: 0.9882 - loss: 0.0336\n"
     ]
    },
    {
     "data": {
      "text/plain": [
       "<keras.src.callbacks.history.History at 0x31b5e8850>"
      ]
     },
     "execution_count": 8,
     "metadata": {},
     "output_type": "execute_result"
    }
   ],
   "source": [
    "model = keras.Sequential([\n",
    "    keras.layers.Flatten(input_shape=(28,28)),# if using RGB images, add 3\n",
    "    keras.layers.Dense(50, activation='relu'),\n",
    "    keras.layers.Dense(50, activation='relu'),\n",
    "    keras.layers.Dense(10, activation='sigmoid')\n",
    "])\n",
    "\n",
    "model.compile(optimizer='adam',\n",
    "              loss='sparse_categorical_crossentropy',\n",
    "              metrics=['accuracy'])\n",
    "# sparse_categorical_crossentropy\n",
    "\n",
    "model.fit(x_train, y_train, epochs=10)"
   ]
  },
  {
   "cell_type": "markdown",
   "metadata": {
    "id": "bADByqLE3foQ"
   },
   "source": [
    "# Evaluate to Check for overfitting\n",
    "\n",
    "compare accuracy of training data with accuracy of test data. If accuracy on test data is too low, model is overfitted"
   ]
  },
  {
   "cell_type": "code",
   "execution_count": 9,
   "metadata": {
    "colab": {
     "base_uri": "https://localhost:8080/"
    },
    "id": "ZoOMZEEd25By",
    "outputId": "62122da4-c148-441f-b6ee-dbff174c634a"
   },
   "outputs": [
    {
     "name": "stdout",
     "output_type": "stream",
     "text": [
      "\u001b[1m313/313\u001b[0m \u001b[32m━━━━━━━━━━━━━━━━━━━━\u001b[0m\u001b[37m\u001b[0m \u001b[1m0s\u001b[0m 348us/step - accuracy: 0.9722 - loss: 0.1066\n"
     ]
    },
    {
     "data": {
      "text/plain": [
       "[0.0918695330619812, 0.9767000079154968]"
      ]
     },
     "execution_count": 9,
     "metadata": {},
     "output_type": "execute_result"
    }
   ],
   "source": [
    "model.evaluate(x_test, y_test)"
   ]
  },
  {
   "cell_type": "markdown",
   "metadata": {
    "id": "p_SP048UBPwP"
   },
   "source": [
    "# Predict"
   ]
  },
  {
   "cell_type": "code",
   "execution_count": 10,
   "metadata": {
    "colab": {
     "base_uri": "https://localhost:8080/"
    },
    "id": "IMY-ktU3BTKk",
    "outputId": "946f42c2-442a-4b91-ca1d-513ff956831c"
   },
   "outputs": [
    {
     "name": "stdout",
     "output_type": "stream",
     "text": [
      "\u001b[1m313/313\u001b[0m \u001b[32m━━━━━━━━━━━━━━━━━━━━\u001b[0m\u001b[37m\u001b[0m \u001b[1m0s\u001b[0m 279us/step\n",
      "[[1.5516747e-02 3.5391417e-03 1.3851210e-01 ... 9.9999952e-01\n",
      "  4.3972288e-03 3.2571816e-01]\n",
      " [3.2522646e-04 2.4662738e-01 1.0000000e+00 ... 4.0064403e-03\n",
      "  8.9280128e-01 1.9368317e-06]\n",
      " [1.1797139e-04 9.9999321e-01 9.8044580e-01 ... 9.8231179e-01\n",
      "  6.3309592e-01 9.5762830e-04]\n",
      " ...\n",
      " [9.9292491e-05 3.8195759e-07 2.2565468e-06 ... 9.9806231e-01\n",
      "  8.2385686e-04 9.9993372e-01]\n",
      " [2.8066619e-03 8.1718099e-05 7.5111842e-08 ... 2.7632308e-01\n",
      "  9.9725097e-01 1.1243917e-05]\n",
      " [5.3048359e-05 1.9618824e-07 1.0468606e-04 ... 2.5929713e-08\n",
      "  2.8484410e-01 1.1196281e-06]]\n"
     ]
    }
   ],
   "source": [
    "y_pred=model.predict(x_test)\n",
    "print(y_pred)"
   ]
  },
  {
   "cell_type": "markdown",
   "metadata": {
    "id": "ee09qdFMBiyB"
   },
   "source": [
    "# Converting the prediction probabilities to class labels\n",
    "\n",
    "use argmax() to find which value is maximum"
   ]
  },
  {
   "cell_type": "code",
   "execution_count": 11,
   "metadata": {
    "colab": {
     "base_uri": "https://localhost:8080/"
    },
    "id": "es3xxAOyBtb4",
    "outputId": "0cfdd454-4745-4e30-c2f9-7dde090b2934"
   },
   "outputs": [
    {
     "name": "stdout",
     "output_type": "stream",
     "text": [
      "7\n"
     ]
    }
   ],
   "source": [
    "label_for_first_test_image = np.argmax(y_pred[0])\n",
    "print(label_for_first_test_image)"
   ]
  },
  {
   "cell_type": "markdown",
   "metadata": {
    "id": "eHUFY2yKCObk"
   },
   "source": [
    "# Converting the prediction probabilities to class labels for all entries\n"
   ]
  },
  {
   "cell_type": "code",
   "execution_count": 21,
   "metadata": {
    "colab": {
     "base_uri": "https://localhost:8080/"
    },
    "id": "qamqSzqNCODF",
    "outputId": "a2e474b2-68d8-4f52-e534-3b9fb79ed3d5"
   },
   "outputs": [],
   "source": [
    "Y_pred_labels = [np.argmax(i) for i in y_pred]"
   ]
  },
  {
   "cell_type": "markdown",
   "metadata": {
    "id": "k9PKlGwqDBh4"
   },
   "source": [
    "#Confusion matrix"
   ]
  },
  {
   "cell_type": "code",
   "execution_count": 13,
   "metadata": {
    "colab": {
     "base_uri": "https://localhost:8080/"
    },
    "id": "RI2AWBrBDD4O",
    "outputId": "7bfb0af4-a3e8-4754-f6a7-3fb351f88fca"
   },
   "outputs": [
    {
     "name": "stdout",
     "output_type": "stream",
     "text": [
      "[[ 972    1    0    1    1    0    2    1    2    0]\n",
      " [   0 1128    3    0    0    0    0    0    4    0]\n",
      " [   2    1 1016    2    3    0    1    5    2    0]\n",
      " [   2    1    3  983    0    2    0    8    4    7]\n",
      " [   0    0    5    0  957    0    3    3    1   13]\n",
      " [   3    0    0   14    2  850   11    1   10    1]\n",
      " [   5    2    5    1    6    3  936    0    0    0]\n",
      " [   1    1   13    0    0    0    0 1005    1    7]\n",
      " [   6    2    4    4    5    0    1    4  939    9]\n",
      " [   3    3    1    3    9    3    0    5    1  981]]\n"
     ]
    }
   ],
   "source": [
    "conf_mat = confusion_matrix(y_test, Y_pred_labels)\n",
    "print(conf_mat)"
   ]
  },
  {
   "cell_type": "code",
   "execution_count": 14,
   "metadata": {
    "colab": {
     "base_uri": "https://localhost:8080/",
     "height": 517
    },
    "id": "8E1c9TGrKjgT",
    "outputId": "d3618066-08dd-4215-ad77-e859efae24dd"
   },
   "outputs": [
    {
     "data": {
      "image/png": "[encoded data removed]",
      "text/plain": [
       "<Figure size 1500x700 with 2 Axes>"
      ]
     },
     "metadata": {},
     "output_type": "display_data"
    }
   ],
   "source": [
    "plt.figure(figsize = (15,7))\n",
    "sn.heatmap(conf_mat, annot=True, fmt='d', cmap=\"YlGnBu\")\n",
    "plt.ylabel('Actual')\n",
    "plt.xlabel('Predicted')\n",
    "plt.show()"
   ]
  },
  {
   "cell_type": "markdown",
   "metadata": {
    "id": "_UiHCs3wO-BB"
   },
   "source": [
    "# Testing a predictive system\n",
    "\n",
    "1. Put the test image in a path\n",
    "2. Read the image using cv2\n",
    "3. Grayscale the image using cv2.cvtColor\n",
    "4. Resize the test image using cv2.resize\n",
    "5. Reshape the test image using numpy.reshape\n",
    "6. Put the reshaped image into the model\n",
    "7. Put the prediction array you get into np.argmax to get the final class"
   ]
  },
  {
   "cell_type": "code",
   "execution_count": 15,
   "metadata": {
    "id": "dvlCYxwTO9qT"
   },
   "outputs": [],
   "source": [
    "# input_image_path = '/content/images.png'\n",
    "# input_image = cv2.imread(input_image_path)\n",
    "\n",
    "# type(input_image)\n",
    "# cv2_imshow(input_image)\n",
    "# input_image.shape\n",
    "# # the shape is (176, 176, 3) i.e it's is an RGB image with dim 176x176\n"
   ]
  },
  {
   "cell_type": "code",
   "execution_count": 16,
   "metadata": {
    "id": "LOrCEOWxuQuN"
   },
   "outputs": [],
   "source": [
    "# # the image has to be resized and grayscaled\n",
    "# input_image_resize = cv2.resize(input_image, (28,28))\n",
    "# cv2_imshow(input_image_resize)\n",
    "# input_image_resize.shape"
   ]
  },
  {
   "cell_type": "code",
   "execution_count": 17,
   "metadata": {
    "id": "Zy5VrOuZ02VH"
   },
   "outputs": [],
   "source": [
    "# # now we need to grayscale the image\n",
    "# input_image_gray = cv2.cvtColor(input_image_resize, cv2.COLOR_BGR2GRAY)\n",
    "# cv2_imshow(input_image_gray)\n"
   ]
  },
  {
   "cell_type": "code",
   "execution_count": 18,
   "metadata": {
    "id": "oLXeC8oO1ggZ"
   },
   "outputs": [],
   "source": [
    "# # Now we feed the input image in the model\n",
    "# image_Reshaped = input_image_gray.reshape(1,28,28)\n",
    "\n",
    "# # print(image_Reshaped)\n",
    "\n",
    "# image_Reshaped = image_Reshaped/255\n",
    "\n",
    "# # print(image_Reshaped)\n",
    "# input_prediction = model.predict(image_Reshaped)\n",
    "# print(input_prediction)"
   ]
  },
  {
   "cell_type": "code",
   "execution_count": 19,
   "metadata": {
    "id": "bhaJs0-pUTL6"
   },
   "outputs": [],
   "source": [
    "# # Argmax to get the label. Label is the index of the maximum value\n",
    "# input_pred_label = np.argmax(input_prediction)\n",
    "# print(input_pred_label)"
   ]
  },
  {
   "cell_type": "code",
   "execution_count": 27,
   "metadata": {},
   "outputs": [
    {
     "data": {
      "application/vnd.jupyter.widget-view+json": {
       "model_id": "5ad9e8f279fd443daba03448e5d40402",
       "version_major": 2,
       "version_minor": 0
      },
      "text/plain": [
       "VBox(children=(HBox(children=(Label(value='Select an image:'), FileUpload(value=(), accept='image/*', descript…"
      ]
     },
     "metadata": {},
     "output_type": "display_data"
    }
   ],
   "source": [
    "# !pip install ipywidgets\n",
    "\n",
    "import io\n",
    "import cv2\n",
    "import numpy as np\n",
    "from PIL import Image\n",
    "from IPython.display import display\n",
    "import ipywidgets as widgets\n",
    "\n",
    "# ---- Widgets ----\n",
    "uploader = widgets.FileUpload(accept='image/*', multiple=False)\n",
    "predict_btn = widgets.Button(description='Predict', disabled=True)\n",
    "clear_btn = widgets.Button(description='Clear')\n",
    "out = widgets.Output()\n",
    "\n",
    "display(widgets.VBox([\n",
    "    widgets.HBox([widgets.Label(\"Select an image:\"), uploader, predict_btn, clear_btn]),\n",
    "    out\n",
    "]))\n",
    "\n",
    "# ---- State holder ----\n",
    "_state = {\"img_bgr\": None, \"file_name\": None}\n",
    "\n",
    "def _get_uploaded(u):\n",
    "    \"\"\"Return (content_bytes, file_name) from uploader.value across ipywidgets versions.\"\"\"\n",
    "    v = u.value\n",
    "    if not v:\n",
    "        return None, None\n",
    "    if isinstance(v, dict):\n",
    "        item = next(iter(v.values()))\n",
    "        content = item[\"content\"]\n",
    "        name = item.get(\"metadata\", {}).get(\"name\", \"uploaded\")\n",
    "    else:\n",
    "        item = v[0]\n",
    "        content = item[\"content\"]\n",
    "        name = item.get(\"name\", \"uploaded\")\n",
    "    return content, name\n",
    "\n",
    "@out.capture(clear_output=True)\n",
    "def _on_upload_change(change):\n",
    "    content, name = _get_uploaded(uploader)\n",
    "    if content is None:\n",
    "        print(\"No file selected.\")\n",
    "        predict_btn.disabled = True\n",
    "        return\n",
    "\n",
    "    # Decode bytes -> BGR image (OpenCV)\n",
    "    file_bytes = np.frombuffer(content, np.uint8)\n",
    "    img_bgr = cv2.imdecode(file_bytes, cv2.IMREAD_COLOR)\n",
    "    if img_bgr is None:\n",
    "        print(\"Could not decode image.\")\n",
    "        predict_btn.disabled = True\n",
    "        return\n",
    "\n",
    "    _state[\"img_bgr\"] = img_bgr\n",
    "    _state[\"file_name\"] = name\n",
    "    predict_btn.disabled = False\n",
    "\n",
    "    # Preview (convert BGR->RGB for display)\n",
    "    img_rgb = cv2.cvtColor(img_bgr, cv2.COLOR_BGR2RGB)\n",
    "    print(f\"Selected: {name}\")\n",
    "    display(Image.fromarray(img_rgb))\n",
    "\n",
    "@out.capture(clear_output=False)\n",
    "def _on_predict_click(b):\n",
    "    if _state[\"img_bgr\"] is None:\n",
    "        print(\"Please upload an image first.\")\n",
    "        return\n",
    "\n",
    "    # ---- Your preprocessing (exactly as in your snippet) ----\n",
    "    img = _state[\"img_bgr\"]\n",
    "    img = cv2.resize(img, (28, 28))\n",
    "    img = cv2.cvtColor(img, cv2.COLOR_BGR2GRAY)\n",
    "    img = img / 255.0\n",
    "    input_image = np.reshape(img, (1, 28, 28))   # keep as (1, 28, 28) to match your model's expectation\n",
    "\n",
    "    # ---- Predict ----\n",
    "    prediction = model.predict(input_image)      # assumes `model` is defined\n",
    "    prediction_label = int(np.argmax(prediction))\n",
    "    print(f\"Prediction: {prediction_label}\")\n",
    "\n",
    "@out.capture(clear_output=True)\n",
    "def _on_clear_click(b):\n",
    "    uploader.value.clear() if hasattr(uploader.value, \"clear\") else None\n",
    "    uploader._counter = 0  # reset for some ipywidgets versions\n",
    "    _state[\"img_bgr\"] = None\n",
    "    _state[\"file_name\"] = None\n",
    "    predict_btn.disabled = True\n",
    "    print(\"Cleared. Please upload a new image.\")\n",
    "\n",
    "# ---- Wire up events ----\n",
    "uploader.observe(_on_upload_change, names='value')\n",
    "predict_btn.on_click(_on_predict_click)\n",
    "clear_btn.on_click(_on_clear_click)\n"
   ]
  },
  {
   "cell_type": "code",
   "execution_count": null,
   "metadata": {},
   "outputs": [],
   "source": []
  }
 ],
 "metadata": {
  "colab": {
   "provenance": []
  },
  "kernelspec": {
   "display_name": "Python 3 (ipykernel)",
   "language": "python",
   "name": "python3"
  },
  "language_info": {
   "codemirror_mode": {
    "name": "ipython",
    "version": 3
   },
   "file_extension": ".py",
   "mimetype": "text/x-python",
   "name": "python",
   "nbconvert_exporter": "python",
   "pygments_lexer": "ipython3",
   "version": "3.9.6"
  }
 },
 "nbformat": 4,
 "nbformat_minor": 4
}
